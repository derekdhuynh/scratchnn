{
 "cells": [
  {
   "cell_type": "markdown",
   "id": "1b49b58e",
   "metadata": {},
   "source": [
    "# Automatic Differentiation and Backpropagation\n",
    "\n",
    "### Resources\n",
    "[UBC autodiff lecture](https://www.cs.ubc.ca/~fwood/CS340/lectures/AD1.pdf)\n",
    "\n",
    "[U of T autodiff slides](https://www.cs.toronto.edu/~rgrosse/courses/csc321_2018/slides/lec10.pdf)\n",
    "\n",
    "[Leimao Blog post](https://leimao.github.io/article/Automatic-Differentiation/)\n",
    "\n",
    "[Ari Seff video](https://www.youtube.com/watch?v=wG_nF1awSSY)"
   ]
  }
 ],
 "metadata": {
  "kernelspec": {
   "display_name": "ml",
   "language": "python",
   "name": "ml"
  },
  "language_info": {
   "codemirror_mode": {
    "name": "ipython",
    "version": 3
   },
   "file_extension": ".py",
   "mimetype": "text/x-python",
   "name": "python",
   "nbconvert_exporter": "python",
   "pygments_lexer": "ipython3",
   "version": "3.10.11"
  }
 },
 "nbformat": 4,
 "nbformat_minor": 5
}
