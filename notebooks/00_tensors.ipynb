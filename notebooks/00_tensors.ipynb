{
 "cells": [
  {
   "cell_type": "code",
   "execution_count": 1,
   "id": "e8358744",
   "metadata": {},
   "outputs": [],
   "source": [
    "import numpy as np"
   ]
  },
  {
   "cell_type": "code",
   "execution_count": 42,
   "id": "4886950b",
   "metadata": {},
   "outputs": [
    {
     "data": {
      "text/plain": [
       "array([[ 6,  7],\n",
       "       [26, 31]])"
      ]
     },
     "execution_count": 42,
     "metadata": {},
     "output_type": "execute_result"
    }
   ],
   "source": [
    "# Rank 2 tensor\n",
    "arr1 = np.arange(2 * 2).reshape(2, 2)\n",
    "arr2 = np.arange(4, 8).reshape(2, 2)\n",
    "\n",
    "arr1 @ arr2"
   ]
  },
  {
   "cell_type": "code",
   "execution_count": 44,
   "id": "829f95b6",
   "metadata": {},
   "outputs": [
    {
     "data": {
      "text/plain": [
       "array([6, 7])"
      ]
     },
     "execution_count": 44,
     "metadata": {},
     "output_type": "execute_result"
    }
   ],
   "source": [
    "arr1[0, :] @ arr2[:, :]"
   ]
  },
  {
   "cell_type": "code",
   "execution_count": 39,
   "id": "50809fb8",
   "metadata": {},
   "outputs": [
    {
     "data": {
      "text/plain": [
       "array([2., 2.])"
      ]
     },
     "execution_count": 39,
     "metadata": {},
     "output_type": "execute_result"
    }
   ],
   "source": []
  },
  {
   "cell_type": "code",
   "execution_count": 48,
   "id": "27249b75",
   "metadata": {},
   "outputs": [],
   "source": [
    "A = np.arange(2 * 2 * 2).reshape(2, 2, 2)\n",
    "B = np.arange(2 * 2 * 2, 2**3 + 2**3).reshape(2, 2, 2)"
   ]
  },
  {
   "cell_type": "code",
   "execution_count": 49,
   "id": "7296b436",
   "metadata": {},
   "outputs": [
    {
     "data": {
      "text/plain": [
       "array([[[0, 1],\n",
       "        [2, 3]],\n",
       "\n",
       "       [[4, 5],\n",
       "        [6, 7]]])"
      ]
     },
     "execution_count": 49,
     "metadata": {},
     "output_type": "execute_result"
    }
   ],
   "source": [
    "A"
   ]
  },
  {
   "cell_type": "code",
   "execution_count": 50,
   "id": "90059e17",
   "metadata": {},
   "outputs": [
    {
     "data": {
      "text/plain": [
       "array([[[ 8,  9],\n",
       "        [10, 11]],\n",
       "\n",
       "       [[12, 13],\n",
       "        [14, 15]]])"
      ]
     },
     "execution_count": 50,
     "metadata": {},
     "output_type": "execute_result"
    }
   ],
   "source": [
    "B"
   ]
  },
  {
   "cell_type": "code",
   "execution_count": 51,
   "id": "d72fbb9a",
   "metadata": {},
   "outputs": [
    {
     "data": {
      "text/plain": [
       "array([[[ 10,  11],\n",
       "        [ 46,  51]],\n",
       "\n",
       "       [[118, 127],\n",
       "        [170, 183]]])"
      ]
     },
     "execution_count": 51,
     "metadata": {},
     "output_type": "execute_result"
    }
   ],
   "source": [
    "A @ B"
   ]
  },
  {
   "cell_type": "code",
   "execution_count": 52,
   "id": "830aa5b8",
   "metadata": {},
   "outputs": [
    {
     "data": {
      "text/plain": [
       "array([[10, 11],\n",
       "       [46, 51]])"
      ]
     },
     "execution_count": 52,
     "metadata": {},
     "output_type": "execute_result"
    }
   ],
   "source": [
    "# For a rank 3 tensor, the matmul indexes over the last dimension\n",
    "A[0, :, :] @ B[0, :, :]"
   ]
  },
  {
   "cell_type": "code",
   "execution_count": 53,
   "id": "5428967e",
   "metadata": {},
   "outputs": [
    {
     "data": {
      "text/plain": [
       "array([[118, 127],\n",
       "       [170, 183]])"
      ]
     },
     "execution_count": 53,
     "metadata": {},
     "output_type": "execute_result"
    }
   ],
   "source": [
    "A[1, :, :] @ B[1, :, :]"
   ]
  },
  {
   "cell_type": "code",
   "execution_count": 76,
   "id": "57b950f2",
   "metadata": {},
   "outputs": [
    {
     "ename": "ValueError",
     "evalue": "operands could not be broadcast together with remapped shapes [original->remapped]: (3,2,3,3)->(3,2,newaxis,newaxis) (2,3,3,3)->(2,3,newaxis,newaxis)  and requested shape (3,3)",
     "output_type": "error",
     "traceback": [
      "\u001b[0;31m---------------------------------------------------------------------------\u001b[0m",
      "\u001b[0;31mValueError\u001b[0m                                Traceback (most recent call last)",
      "Cell \u001b[0;32mIn [76], line 5\u001b[0m\n\u001b[1;32m      2\u001b[0m A \u001b[38;5;241m=\u001b[39m np\u001b[38;5;241m.\u001b[39marange(\u001b[38;5;241m3\u001b[39m\u001b[38;5;241m*\u001b[39m\u001b[38;5;241m*\u001b[39m\u001b[38;5;241m3\u001b[39m \u001b[38;5;241m*\u001b[39m \u001b[38;5;241m2\u001b[39m)\u001b[38;5;241m.\u001b[39mreshape(\u001b[38;5;241m3\u001b[39m, \u001b[38;5;241m2\u001b[39m, \u001b[38;5;241m3\u001b[39m, \u001b[38;5;241m3\u001b[39m)\n\u001b[1;32m      3\u001b[0m B \u001b[38;5;241m=\u001b[39m np\u001b[38;5;241m.\u001b[39marange(\u001b[38;5;241m3\u001b[39m\u001b[38;5;241m*\u001b[39m\u001b[38;5;241m*\u001b[39m\u001b[38;5;241m3\u001b[39m \u001b[38;5;241m*\u001b[39m \u001b[38;5;241m2\u001b[39m, \u001b[38;5;241m3\u001b[39m\u001b[38;5;241m*\u001b[39m\u001b[38;5;241m*\u001b[39m\u001b[38;5;241m3\u001b[39m \u001b[38;5;241m*\u001b[39m \u001b[38;5;241m2\u001b[39m \u001b[38;5;241m+\u001b[39m \u001b[38;5;241m3\u001b[39m\u001b[38;5;241m*\u001b[39m\u001b[38;5;241m*\u001b[39m\u001b[38;5;241m3\u001b[39m \u001b[38;5;241m*\u001b[39m \u001b[38;5;241m2\u001b[39m)\u001b[38;5;241m.\u001b[39mreshape(\u001b[38;5;241m2\u001b[39m, \u001b[38;5;241m3\u001b[39m, \u001b[38;5;241m3\u001b[39m, \u001b[38;5;241m3\u001b[39m)\n\u001b[0;32m----> 5\u001b[0m out \u001b[38;5;241m=\u001b[39m A \u001b[38;5;241m@\u001b[39m B\n\u001b[1;32m      6\u001b[0m \u001b[38;5;28mprint\u001b[39m(out\u001b[38;5;241m.\u001b[39mshape)\n\u001b[1;32m      7\u001b[0m out\n",
      "\u001b[0;31mValueError\u001b[0m: operands could not be broadcast together with remapped shapes [original->remapped]: (3,2,3,3)->(3,2,newaxis,newaxis) (2,3,3,3)->(2,3,newaxis,newaxis)  and requested shape (3,3)"
     ]
    }
   ],
   "source": [
    "# Rank 4 tensor\n",
    "A = np.arange(3**3 * 2).reshape(3, 2, 3, 3)\n",
    "B = np.arange(3**3 * 2, 3**3 * 2 + 3**3 * 2).reshape(2, 3, 3, 3)\n",
    "\n",
    "out = A @ B\n",
    "print(out.shape)\n",
    "out"
   ]
  },
  {
   "cell_type": "code",
   "execution_count": 58,
   "id": "2311fca1",
   "metadata": {},
   "outputs": [
    {
     "data": {
      "text/plain": [
       "array([[18, 19],\n",
       "       [86, 91]])"
      ]
     },
     "execution_count": 58,
     "metadata": {},
     "output_type": "execute_result"
    }
   ],
   "source": [
    "A[0, 0, :, :] @ B[0, 0, :, :]"
   ]
  },
  {
   "cell_type": "code",
   "execution_count": 59,
   "id": "9bf1a2ed",
   "metadata": {},
   "outputs": [
    {
     "data": {
      "text/plain": [
       "array([[190, 199],\n",
       "       [274, 287]])"
      ]
     },
     "execution_count": 59,
     "metadata": {},
     "output_type": "execute_result"
    }
   ],
   "source": [
    "A[0, 1, :, :] @ B[0, 1, :, :]"
   ]
  },
  {
   "cell_type": "code",
   "execution_count": 60,
   "id": "6d80d8a4",
   "metadata": {},
   "outputs": [
    {
     "data": {
      "text/plain": [
       "array([[426, 443],\n",
       "       [526, 547]])"
      ]
     },
     "execution_count": 60,
     "metadata": {},
     "output_type": "execute_result"
    }
   ],
   "source": [
    "A[1, 0, :, :] @ B[1, 0, :, :]"
   ]
  },
  {
   "cell_type": "code",
   "execution_count": 61,
   "id": "204c1aed",
   "metadata": {},
   "outputs": [
    {
     "data": {
      "text/plain": [
       "array([[726, 751],\n",
       "       [842, 871]])"
      ]
     },
     "execution_count": 61,
     "metadata": {},
     "output_type": "execute_result"
    }
   ],
   "source": [
    "A[1, 1, :, :] @ B[1, 1, :, :]"
   ]
  },
  {
   "cell_type": "code",
   "execution_count": null,
   "id": "c956b4fb",
   "metadata": {},
   "outputs": [],
   "source": [
    "# General matmul algorithm for an ndarray\n",
    "# We fix the last two indices which we can think of as our clump of 2D matrices\n",
    "# We index over the first n-2 indices, starting with the n - 2, then n - 3 and so on\n",
    "def matmul(a, b, stride_a, stride_b):\n",
    "    \"\"\"\n",
    "    i = # of rows of a\n",
    "    j = # of cols of a / # of rows of b\n",
    "    k = # or cols of b\n",
    "    \"\"\"\n",
    "    for i in range(stride_a[0]):\n",
    "        for j in range(stride_a[0]):\n",
    "            for k in range(stride_b[1]):\n",
    "                "
   ]
  },
  {
   "cell_type": "code",
   "execution_count": 146,
   "id": "50af9596",
   "metadata": {},
   "outputs": [
    {
     "name": "stdout",
     "output_type": "stream",
     "text": [
      "[0, 0, 1, 0, 0] 2 2 u\n",
      "[0, 0, 2, 0, 0] 2 2 u\n",
      "[0, 0, 3, 0, 0] 2 2 u\n",
      "[0, 1, 0, 0, 0] 2 1 u\n",
      "[0, 1, 0, 0, 0] 2 1 a\n",
      "[0, 1, 1, 0, 0] 2 1 a\n",
      "[0, 1, 2, 0, 0] 2 1 a\n",
      "[0, 1, 3, 0, 0] 2 1 b\n",
      "[0, 2, 0, 0, 0] 1 1 u\n",
      "[0, 2, 0, 0, 0] 2 1 a\n",
      "[0, 2, 1, 0, 0] 2 1 a\n",
      "[0, 2, 2, 0, 0] 2 1 a\n",
      "[0, 2, 3, 0, 0] 2 1 b\n",
      "[0, 3, 0, 0, 0] 1 1 u\n",
      "[0, 3, 0, 0, 0] 2 1 a\n",
      "[0, 3, 1, 0, 0] 2 1 a\n",
      "[0, 3, 2, 0, 0] 2 1 a\n",
      "[0, 3, 3, 0, 0] 2 1 b\n",
      "[1, 0, 0, 0, 0] 1 0 u\n",
      "[1, 0, 0, 0, 0] 2 0 a\n",
      "[1, 0, 1, 0, 0] 2 0 a\n",
      "[1, 0, 2, 0, 0] 2 0 a\n",
      "[1, 0, 3, 0, 0] 2 0 b\n",
      "[1, 0, 0, 0, 0] 1 0 a\n",
      "[1, 1, 0, 0, 0] 1 0 a\n",
      "[1, 2, 0, 0, 0] 1 0 a\n",
      "[1, 3, 0, 0, 0] 1 0 b\n",
      "[2, 0, 0, 0, 0] 0 0 u\n",
      "[2, 0, 0, 0, 0] 2 0 a\n",
      "[2, 0, 1, 0, 0] 2 0 a\n",
      "[2, 0, 2, 0, 0] 2 0 a\n",
      "[2, 0, 3, 0, 0] 2 0 b\n",
      "[2, 0, 0, 0, 0] 1 0 a\n",
      "[2, 1, 0, 0, 0] 1 0 a\n",
      "[2, 2, 0, 0, 0] 1 0 a\n",
      "[2, 3, 0, 0, 0] 1 0 b\n",
      "[3, 0, 0, 0, 0] 0 0 u\n",
      "[3, 0, 0, 0, 0] 2 0 a\n",
      "[3, 0, 1, 0, 0] 2 0 a\n",
      "[3, 0, 2, 0, 0] 2 0 a\n",
      "[3, 0, 3, 0, 0] 2 0 b\n",
      "[3, 0, 0, 0, 0] 1 0 a\n",
      "[3, 1, 0, 0, 0] 1 0 a\n",
      "[3, 2, 0, 0, 0] 1 0 a\n",
      "[3, 3, 0, 0, 0] 1 0 b\n",
      "[0, 0, 0, 0, 1] 0 -1 u\n"
     ]
    }
   ],
   "source": [
    "def iterate_nd(dims):\n",
    "    inds = [0] * len(dims)\n",
    "    cur_dim = len(dims) - 3\n",
    "\n",
    "    i = len(dims) - 3\n",
    "    while (cur_dim >= 0):\n",
    "        while i != cur_dim:\n",
    "            while inds[i] != dims[i] - 1:\n",
    "                print(inds, i, cur_dim, 'a')\n",
    "                inds[i] += 1\n",
    "                \n",
    "            print(inds, i, cur_dim, 'b')\n",
    "            inds[i] = 0\n",
    "            i -= 1\n",
    "        \n",
    "        if inds[cur_dim] == dims[cur_dim] - 1:\n",
    "            inds[cur_dim] = 0\n",
    "            cur_dim -= 1\n",
    "            inds[cur_dim] += 1\n",
    "        else:\n",
    "            inds[cur_dim] += 1\n",
    "            \n",
    "        print(inds, i, cur_dim, 'u')\n",
    "        \n",
    "        i = len(dims) - 3\n",
    "        \n",
    "            \n",
    "iterate_nd([4, 4, 4, 4, 4])"
   ]
  },
  {
   "cell_type": "code",
   "execution_count": null,
   "id": "5896a4a7",
   "metadata": {},
   "outputs": [],
   "source": [
    "            if (inds[cur_dim] == dims[cur_dim] - 1):\n",
    "                cur_dim -= 1\n",
    "                inds[cur_dim] += 1\n",
    "                inds[i] = 0\n",
    "            elif (inds[i] == dims[i] - 1):\n",
    "                inds[cur_dim] += 1\n",
    "                inds[i] = 0\n",
    "            else:\n",
    "                inds[i] += 1"
   ]
  }
 ],
 "metadata": {
  "kernelspec": {
   "display_name": "ml",
   "language": "python",
   "name": "ml"
  },
  "language_info": {
   "codemirror_mode": {
    "name": "ipython",
    "version": 3
   },
   "file_extension": ".py",
   "mimetype": "text/x-python",
   "name": "python",
   "nbconvert_exporter": "python",
   "pygments_lexer": "ipython3",
   "version": "3.10.11"
  }
 },
 "nbformat": 4,
 "nbformat_minor": 5
}
