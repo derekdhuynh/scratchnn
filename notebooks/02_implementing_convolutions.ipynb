{
 "cells": [
  {
   "cell_type": "markdown",
   "id": "be3fe5af",
   "metadata": {
    "id": "be3fe5af"
   },
   "source": [
    "# Implementing Convolutions"
   ]
  },
  {
   "cell_type": "code",
   "execution_count": 8,
   "id": "7d25fc38",
   "metadata": {
    "id": "7d25fc38"
   },
   "outputs": [],
   "source": [
    "import numpy as np\n",
    "import tqdm\n",
    "# import matplotlib as mpl\n",
    "# import matplotlib.pyplot as plt\n",
    "# import seaborn as sns\n",
    "import tensorflow as tf\n",
    "from tensorflow import keras\n",
    "\n",
    "# Setting plot styles\n",
    "# sns.set_style('white')\n",
    "# mpl.rcParams.update({\n",
    "#     'font.size': 14,\n",
    "#     'lines.linewidth': 2,\n",
    "#     'figure.figsize': (6, 6 / 1.61)\n",
    "# })\n",
    "# mpl.rcParams['grid.color'] = 'k'\n",
    "# mpl.rcParams['grid.linestyle'] = ':'\n",
    "# mpl.rcParams['grid.linewidth'] = 0.5\n",
    "# mpl.rcParams['lines.markersize'] = 6\n",
    "# mpl.rcParams['lines.marker'] = None\n",
    "# mpl.rcParams['axes.grid'] = True\n",
    "\n",
    "# DEFAULT_FONTSIZE = 13\n",
    "# mpl.rcParams.update({\n",
    "#     'font.size': DEFAULT_FONTSIZE,\n",
    "#     'lines.linewidth': 2,\n",
    "#     'legend.fontsize': DEFAULT_FONTSIZE,\n",
    "#     'axes.labelsize': DEFAULT_FONTSIZE,\n",
    "#     'xtick.labelsize': DEFAULT_FONTSIZE,\n",
    "#     'ytick.labelsize': DEFAULT_FONTSIZE,\n",
    "#     'figure.figsize': (7, 7.0 / 1.4)\n",
    "# })\n",
    "K = keras.backend\n",
    "# \n",
    "# # Setting python hash seed\n",
    "# import os\n",
    "# seed_value = 0\n",
    "# os.environ['PYTHONHASHSEED'] = str(seed_value)\n",
    "# \n",
    "# # All my homies hate scientific notation\n",
    "# np.set_printoptions(suppress=True)"
   ]
  },
  {
   "cell_type": "code",
   "execution_count": null,
   "id": "6f88ccf9",
   "metadata": {
    "colab": {
     "base_uri": "https://localhost:8080/",
     "height": 207
    },
    "id": "6f88ccf9",
    "outputId": "ca03e02e-86bb-47f8-ba64-443d0222e178"
   },
   "outputs": [
    {
     "data": {
      "image/png": "[encoded data removed]",
      "text/plain": [
       "<Figure size 432x288 with 10 Axes>"
      ]
     },
     "metadata": {
      "needs_background": "light",
      "tags": []
     },
     "output_type": "display_data"
    }
   ],
   "source": [
    "# Plotting each of the ten digits\n",
    "(X_train, y_train), (X_test, y_test) = keras.datasets.mnist.load_data()\n",
    "X_train = (X_train / 255.).astype(np.float32)[:, :, :, np.newaxis]\n",
    "y_train = y_train\n",
    "\n",
    "fig, axes = plt.subplots(2, 5)\n",
    "axes = axes.ravel()\n",
    "\n",
    "inds = []\n",
    "for y in range(10):\n",
    "    inds.append(np.argmax(y == y_train))\n",
    "ten_digits = X_train[inds]\n",
    "\n",
    "for digit, ax in zip(ten_digits, axes):\n",
    "    ax.grid('off')\n",
    "    ax.axis('off')\n",
    "    ax.imshow(digit.reshape(28, 28), cmap='viridis')"
   ]
  },
  {
   "cell_type": "code",
   "execution_count": null,
   "id": "dedda79e",
   "metadata": {
    "colab": {
     "base_uri": "https://localhost:8080/"
    },
    "id": "dedda79e",
    "outputId": "9840e90a-060b-44c7-f2af-f44e98057fad"
   },
   "outputs": [
    {
     "name": "stdout",
     "output_type": "stream",
     "text": [
      "Model: \"digit_net\"\n",
      "_________________________________________________________________\n",
      "Layer (type)                 Output Shape              Param #   \n",
      "=================================================================\n",
      "conv2d (Conv2D)              (None, 28, 28, 32)        320       \n",
      "_________________________________________________________________\n",
      "conv2d_1 (Conv2D)            (None, 28, 28, 64)        18496     \n",
      "_________________________________________________________________\n",
      "max_pooling2d (MaxPooling2D) (None, 14, 14, 64)        0         \n",
      "_________________________________________________________________\n",
      "conv2d_2 (Conv2D)            (None, 12, 12, 64)        36928     \n",
      "_________________________________________________________________\n",
      "conv2d_3 (Conv2D)            (None, 10, 10, 64)        36928     \n",
      "_________________________________________________________________\n",
      "max_pooling2d_1 (MaxPooling2 (None, 5, 5, 64)          0         \n",
      "_________________________________________________________________\n",
      "conv2d_4 (Conv2D)            (None, 5, 5, 32)          2080      \n",
      "_________________________________________________________________\n",
      "average_pooling2d (AveragePo (None, 1, 1, 32)          0         \n",
      "_________________________________________________________________\n",
      "flatten (Flatten)            (None, 32)                0         \n",
      "_________________________________________________________________\n",
      "dense (Dense)                (None, 32)                1056      \n",
      "_________________________________________________________________\n",
      "dense_1 (Dense)              (None, 10)                330       \n",
      "=================================================================\n",
      "Total params: 96,138\n",
      "Trainable params: 96,138\n",
      "Non-trainable params: 0\n",
      "_________________________________________________________________\n",
      "Epoch 1/5\n",
      "1875/1875 [==============================] - 7s 4ms/step - loss: 0.5734 - accuracy: 0.8091\n",
      "Epoch 2/5\n",
      "1875/1875 [==============================] - 7s 4ms/step - loss: 0.1149 - accuracy: 0.9648\n",
      "Epoch 3/5\n",
      "1875/1875 [==============================] - 7s 4ms/step - loss: 0.0763 - accuracy: 0.9768\n",
      "Epoch 4/5\n",
      "1875/1875 [==============================] - 7s 4ms/step - loss: 0.0593 - accuracy: 0.9820\n",
      "Epoch 5/5\n",
      "1875/1875 [==============================] - 7s 4ms/step - loss: 0.0489 - accuracy: 0.9844\n"
     ]
    }
   ],
   "source": [
    "# Training MNIST CNN\n",
    "K.clear_session()\n",
    "class DigitNet(keras.models.Model):\n",
    "    # Basically a very small and light VGG\n",
    "    def __init__(self, input_shape,**kwargs):\n",
    "        super(DigitNet, self).__init__(input_shape, **kwargs)\n",
    "\n",
    "        self.inp = keras.layers.Input(shape=input_shape)\n",
    "        self.l1 = keras.layers.Conv2D(32, 3, padding='same', activation='relu', kernel_initializer='he_normal')\n",
    "        self.l2 = keras.layers.Conv2D(64, 3, padding='same', activation='relu', kernel_initializer='he_normal')\n",
    "        self.l3 = keras.layers.MaxPool2D(2, 2)\n",
    "        self.l4 = keras.layers.Conv2D(64, 3, activation='relu', kernel_initializer='he_normal')\n",
    "        self.l5 = keras.layers.Conv2D(64, 3, activation='relu', kernel_initializer='he_normal')\n",
    "        self.l6 = keras.layers.MaxPool2D(2, 2)\n",
    "        self.l7 = keras.layers.Conv2D(32, 1, activation='relu', kernel_initializer='he_normal')\n",
    "        self.l8 = keras.layers.AvgPool2D(5, 1)\n",
    "        self.l9 = keras.layers.Flatten()\n",
    "        self.l10 = keras.layers.Dense(32, activation='relu', kernel_initializer='he_normal')\n",
    "        self.l11 = keras.layers.Dense(10, activation='softmax', kernel_initializer='he_normal')\n",
    "        \n",
    "        self.__call__(self.inp)\n",
    "        self.build(tuple([None] + list(input_shape)))\n",
    "        \n",
    "    def call(self, x):\n",
    "        return self.__call__(x)\n",
    "    \n",
    "    def __call__(self, x, training=True):\n",
    "        x = self.l1(x)\n",
    "        x = self.l2(x)\n",
    "        x = self.l3(x)\n",
    "        x = self.l4(x)\n",
    "        x = self.l5(x)\n",
    "        x = self.l6(x)\n",
    "        x = self.l7(x)\n",
    "        x = self.l8(x)\n",
    "        x = self.l9(x)\n",
    "        x = self.l10(x)\n",
    "        x = self.l11(x)\n",
    "        return x\n",
    "\n",
    "# Batching dataset\n",
    "AUTOTUNE = tf.data.experimental.AUTOTUNE\n",
    "dset = tf.data.Dataset.from_tensor_slices((X_train, y_train)).batch(32).prefetch(AUTOTUNE)\n",
    "\n",
    "# Instantiate model\n",
    "model = DigitNet((28, 28, 1))\n",
    "model.summary()\n",
    "optimizer = keras.optimizers.SGD(learning_rate=0.05)\n",
    "loss_fn = keras.losses.SparseCategoricalCrossentropy()\n",
    "\n",
    "model.compile(optimizer=optimizer, loss=loss_fn, metrics=['accuracy'])\n",
    "history = model.fit(X_train, y_train, batch_size=32, epochs=5)"
   ]
  },
  {
   "cell_type": "code",
   "execution_count": null,
   "id": "ee06f024",
   "metadata": {
    "id": "ee06f024"
   },
   "outputs": [],
   "source": [
    "# Creating keras Conv2D layer, copy weights\n",
    "tf.random.set_seed(2)\n",
    "keras.layers.Conv2D()"
   ]
  },
  {
   "cell_type": "code",
   "execution_count": 12,
   "id": "9dcb7e6c",
   "metadata": {},
   "outputs": [
    {
     "data": {
      "text/plain": [
       "[]"
      ]
     },
     "execution_count": 12,
     "metadata": {},
     "output_type": "execute_result"
    }
   ],
   "source": [
    "l1 = keras.layers.Dense(30)\n",
    "l1.weights"
   ]
  },
  {
   "cell_type": "code",
   "execution_count": 13,
   "id": "dc2f6122",
   "metadata": {},
   "outputs": [],
   "source": [
    "import torch"
   ]
  },
  {
   "cell_type": "code",
   "execution_count": 17,
   "id": "480f5fe4",
   "metadata": {},
   "outputs": [
    {
     "data": {
      "text/plain": [
       "torch.Size([50, 30])"
      ]
     },
     "execution_count": 17,
     "metadata": {},
     "output_type": "execute_result"
    }
   ],
   "source": [
    "linear = torch.nn.Linear(30, 50)\n",
    "linear.weight.shape"
   ]
  },
  {
   "cell_type": "code",
   "execution_count": null,
   "id": "f21c5e9c",
   "metadata": {},
   "outputs": [],
   "source": [
    "linear.weight.shape"
   ]
  },
  {
   "cell_type": "code",
   "execution_count": 19,
   "id": "c3385a74",
   "metadata": {},
   "outputs": [
    {
     "data": {
      "text/plain": [
       "torch.Size([50])"
      ]
     },
     "execution_count": 19,
     "metadata": {},
     "output_type": "execute_result"
    }
   ],
   "source": [
    "linear.bias.shape"
   ]
  },
  {
   "cell_type": "code",
   "execution_count": 28,
   "id": "0e20d645",
   "metadata": {},
   "outputs": [
    {
     "data": {
      "text/plain": [
       "torch.Size([1, 50])"
      ]
     },
     "execution_count": 28,
     "metadata": {},
     "output_type": "execute_result"
    }
   ],
   "source": [
    "x = torch.arange(30 * 1, dtype=torch.float32).reshape((1, 30))\n",
    "linear(x).shape"
   ]
  },
  {
   "cell_type": "code",
   "execution_count": 33,
   "id": "f1e85754",
   "metadata": {},
   "outputs": [
    {
     "data": {
      "text/plain": [
       "tensor([[-16.8266,  13.1608,  20.5150,  10.9528,   5.2927,   0.0946,   4.4391,\n",
       "         -25.9943, -14.7486,  -4.5530,   7.2458,  -7.1704,  15.8641,   7.8664,\n",
       "         -15.2641,  -0.3370,  15.5980,  -1.5737,  -2.8545,  13.7244, -12.8769,\n",
       "           8.9590,  14.5763,   8.8955, -16.2508,  -1.1676,   1.8376,  -0.0687,\n",
       "          13.9144,   7.0558,   7.6362,  13.2377,   3.5098,  -0.5692,  -4.6141,\n",
       "           8.8477,  -6.2314,  -7.6535,   6.7422,   0.4052, -12.3918,  -9.6725,\n",
       "         -18.5491,  14.5852,  27.4325,  17.9957,  -8.3361,   3.5522,  25.3806,\n",
       "         -14.6808]], grad_fn=<PermuteBackward0>)"
      ]
     },
     "execution_count": 33,
     "metadata": {},
     "output_type": "execute_result"
    }
   ],
   "source": [
    "linear.weight.matmul(x.T).T"
   ]
  },
  {
   "cell_type": "code",
   "execution_count": 38,
   "id": "1400cf41",
   "metadata": {},
   "outputs": [
    {
     "data": {
      "text/plain": [
       "torch.Size([1, 50])"
      ]
     },
     "execution_count": 38,
     "metadata": {},
     "output_type": "execute_result"
    }
   ],
   "source": [
    "y = torch.arange(30 * 50, dtype=torch.float32).reshape(30, 50)\n",
    "x.matmul(y).shape"
   ]
  },
  {
   "cell_type": "code",
   "execution_count": 53,
   "id": "8350d79b",
   "metadata": {},
   "outputs": [
    {
     "data": {
      "text/plain": [
       "tensor(3.5380)"
      ]
     },
     "execution_count": 53,
     "metadata": {},
     "output_type": "execute_result"
    }
   ],
   "source": [
    "y_pred = torch.tensor([0.95, 0.8, 0.1, 0.17])\n",
    "y_true = torch.tensor([1., 0., 0., 1.])\n",
    "\n",
    "-(y_true * y_pred.log() + (1 - y_true) * (1 - y_pred).log()).sum()"
   ]
  },
  {
   "cell_type": "code",
   "execution_count": 47,
   "id": "2d89931c",
   "metadata": {},
   "outputs": [
    {
     "data": {
      "text/plain": [
       "tensor(3.5380)"
      ]
     },
     "execution_count": 47,
     "metadata": {},
     "output_type": "execute_result"
    }
   ],
   "source": [
    "torch.nn.functional.binary_cross_entropy(y_pred, y_true, reduction='sum')"
   ]
  }
 ],
 "metadata": {
  "accelerator": "GPU",
  "colab": {
   "name": "02_implementing_convolutions.ipynb",
   "provenance": []
  },
  "kernelspec": {
   "display_name": "Python 3 (ipykernel)",
   "language": "python",
   "name": "python3"
  },
  "language_info": {
   "codemirror_mode": {
    "name": "ipython",
    "version": 3
   },
   "file_extension": ".py",
   "mimetype": "text/x-python",
   "name": "python",
   "nbconvert_exporter": "python",
   "pygments_lexer": "ipython3",
   "version": "3.10.11"
  }
 },
 "nbformat": 4,
 "nbformat_minor": 5
}
